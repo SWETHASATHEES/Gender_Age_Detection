{
 "cells": [
  {
   "cell_type": "code",
   "execution_count": 1,
   "metadata": {},
   "outputs": [],
   "source": [
    "import cv2\n",
    "import matplotlib.pyplot as plt"
   ]
  },
  {
   "cell_type": "code",
   "execution_count": 2,
   "metadata": {},
   "outputs": [],
   "source": [
    "face_cascade = cv2.CascadeClassifier('/home/user/Desktop/DL/vs_code/face_detection/haarcascade_frontalface_default.xml')\n",
    "\n",
    "\n",
    "age_caffe = '/home/user/Desktop/DL/vs_code/gender and age/age_net.caffemodel'\n",
    "age_pro = '/home/user/Desktop/DL/vs_code/gender and age/deploy_age.prototxt'\n",
    "\n",
    "gender_caffe = '/home/user/Desktop/DL/vs_code/gender and age/gender_net.caffemodel'\n",
    "gender_pro = '/home/user/Desktop/DL/vs_code/gender and age/deploy_gender.prototxt'\n",
    "\n",
    "\n",
    "age_data = cv2.dnn.readNet(age_caffe,age_pro)\n",
    "gender_data = cv2.dnn.readNet(gender_caffe,gender_pro)\n"
   ]
  },
  {
   "cell_type": "code",
   "execution_count": 3,
   "metadata": {},
   "outputs": [],
   "source": [
    "def detect_age_gender(img_path):\n",
    "    img = cv2.imread(img_path)\n",
    "    img_gray =cv2.cvtColor(img,cv2.COLOR_BGR2GRAY)\n",
    "    faces =face_cascade.detectMultiScale(img_gray,\n",
    "                                        scaleFactor=1.1, \n",
    "                                        minNeighbors=5 )\n",
    "    for (x,y,w,h) in faces:\n",
    "        cv2.rectangle(img ,(x,y),(x+w,y+w),(0,255,0),2)\n",
    "\n",
    "        age_list=['(0, 2)','(4, 6)','(8, 12)','(15, 20)','(25, 32)','(38, 43)','(48, 53)','(60, 100)']\n",
    "        gender_list=['Male','Female']\n",
    "    \n",
    "\n",
    "\n",
    "\n",
    "        MODEL_MEAN_VALUES = (78.4263377603, 87.7689143744, 114.895847746)\n",
    "\n",
    "        \n",
    "        blob = cv2.dnn.blobFromImage(img , 1.0, (227,227) , MODEL_MEAN_VALUES) \n",
    "\n",
    "        gender_data.setInput(blob)\n",
    "        gender_pred = gender_data.forward()\n",
    "        gender1 = gender_list[gender_pred[0].argmax()]\n",
    "\n",
    "        age_data.setInput(blob)\n",
    "        age_pred = age_data.forward()\n",
    "        age = age_list[age_pred[0].argmax()]\n",
    "\n",
    "        label = \"{},{}\".format(gender1,age)\n",
    "        cv2.putText(img , label,(x,y),cv2.FONT_HERSHEY_COMPLEX,1,(0,0,250),3 )\n",
    "\n",
    "    #plt.imshow(img)    \n",
    "\n",
    "    cv2.imshow(\"Gender Detection\",img )\n",
    "    cv2.waitKey()\n",
    "    cv2.destroyAllWindows()\n",
    "        \n",
    "\n",
    "\n"
   ]
  },
  {
   "cell_type": "code",
   "execution_count": 4,
   "metadata": {},
   "outputs": [],
   "source": [
    "detect = detect_age_gender('/home/user/Desktop/DL/vs_code/gender and age/old2.jpg')"
   ]
  },
  {
   "cell_type": "code",
   "execution_count": 5,
   "metadata": {},
   "outputs": [],
   "source": [
    "detect2 = detect_age_gender('/home/user/Desktop/DL/vs_code/gender and age/female3.jpg')"
   ]
  },
  {
   "cell_type": "code",
   "execution_count": 6,
   "metadata": {},
   "outputs": [],
   "source": [
    "detect3 = detect_age_gender('/home/user/Desktop/DL/vs_code/gender and age/image3.jpg')"
   ]
  },
  {
   "cell_type": "code",
   "execution_count": 7,
   "metadata": {},
   "outputs": [],
   "source": [
    "detect4 = detect_age_gender('/home/user/Desktop/DL/vs_code/gender and age/man1.jpg')"
   ]
  },
  {
   "cell_type": "code",
   "execution_count": 8,
   "metadata": {},
   "outputs": [],
   "source": [
    "detect5 = detect_age_gender('/home/user/Desktop/DL/vs_code/gender and age/man2.jpg')"
   ]
  },
  {
   "cell_type": "code",
   "execution_count": 9,
   "metadata": {},
   "outputs": [],
   "source": [
    "detetct6 = detect_age_gender('/home/user/Desktop/DL/vs_code/Gender_Age_detecton/boy_image.jpeg')"
   ]
  }
 ],
 "metadata": {
  "kernelspec": {
   "display_name": "Python 3",
   "language": "python",
   "name": "python3"
  },
  "language_info": {
   "codemirror_mode": {
    "name": "ipython",
    "version": 3
   },
   "file_extension": ".py",
   "mimetype": "text/x-python",
   "name": "python",
   "nbconvert_exporter": "python",
   "pygments_lexer": "ipython3",
   "version": "3.8.10"
  },
  "orig_nbformat": 4
 },
 "nbformat": 4,
 "nbformat_minor": 2
}
